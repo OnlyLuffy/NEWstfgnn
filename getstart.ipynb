{
 "cells": [
  {
   "cell_type": "code",
   "execution_count": null,
   "metadata": {},
   "outputs": [],
   "source": [
    "import numpy as np\n",
    "import matplotlib.pyplot as plt\n",
    "# from metrics import MAE, MAPE, RMSE\n",
    "\n",
    "plt.style.use('fivethirtyeight')\n"
   ]
  },
  {
   "cell_type": "code",
   "execution_count": null,
   "metadata": {},
   "outputs": [],
   "source": [
    "'''npz文件读取'''\n",
    "def get_dataflow(dpath=\"./data/PEMS08/PEMS08.npz\"):\n",
    "    flow_data = np.load(dpath,allow_pickle=True)\n",
    "    return flow_data['data']\n",
    "# poem=np.load(npz_path,allow_pickle=True)\n",
    "# poem.files\n",
    "# data = poem['data']\n",
    "# print(data.shape)"
   ]
  },
  {
   "cell_type": "code",
   "execution_count": null,
   "metadata": {},
   "outputs": [],
   "source": [
    "'''数据集读取与可视化'''\n",
    "traffic_data = get_dataflow()\n",
    "print(\"data size {}\".format(traffic_data.shape))\n",
    "# 采样某个节点的数据\n",
    "node_id = 2\n",
    "# plt.plot(traffic_data[: 24 * 12, node_id, 0], label=\"flow\")\n",
    "# plt.plot(traffic_data[: 24 * 12, node_id, 1], label=\"speed\")\n",
    "# plt.plot(traffic_data[: 24 * 12, node_id, 2], label=\"occupancy\")\n",
    "plt.plot(traffic_data[:, node_id, 0], label=\"flow\")\n",
    "plt.plot(traffic_data[:, node_id, 1], label=\"speed\")\n",
    "plt.plot(traffic_data[:, node_id, 2], label=\"occupancy\")\n",
    "plt.legend(loc=0)\n",
    "plt.savefig(\"./assets/vis.png\")\n",
    "plt.show()"
   ]
  },
  {
   "cell_type": "code",
   "execution_count": null,
   "metadata": {},
   "outputs": [],
   "source": [
    "import numpy as np\n",
    "from scipy.optimize import linprog\n",
    "\n",
    "# 同构线性规划求解节点之间的 Wasserstein 距离\n",
    "def wasserstein_distance(p, q, D):\n",
    "    A_eq = []\n",
    "    for i in range(len(p)):\n",
    "        A = np.zeros_like(D)\n",
    "        A[i, :] = 1\n",
    "        A_eq.append(A.reshape(-1))\n",
    "    for i in range(len(q)):\n",
    "        A = np.zeros_like(D)\n",
    "        A[:, i] = 1\n",
    "        A_eq.append(A.reshape(-1))\n",
    "    A_eq = np.array(A_eq)\n",
    "    # 将分布 p 和分布 q 的元素合并成一个向量，作为等式约束的右侧向量。\n",
    "    b_eq = np.concatenate([p, q])\n",
    "    D = np.array(D)\n",
    "    # 将矩阵 D 扁平化为一维数组\n",
    "    D = D.reshape(-1)\n",
    "    # 解决一个线性规划问题，其中目标函数系数为 D，\n",
    "    #   等式约束系数矩阵为 A_eq，等式约束右侧向量为 b_eq，并保存求解结果\n",
    "    result = linprog(D, A_eq=A_eq[:-1], b_eq=b_eq[:-1])\n",
    "    #  从线性规划结果中获取目标函数的最小值，即最小运输成本1\n",
    "    myresult = result.fun\n",
    "    return myresult\n",
    "\n",
    "def spatial_temporal_aware_distance(x, y):\n",
    "    x, y = np.array(x), np.array(y)\n",
    "    # L2范数\n",
    "    x_norm = (x**2).sum(axis=1, keepdims=True)**0.5\n",
    "    y_norm = (y**2).sum(axis=1, keepdims=True)**0.5\n",
    "    print('x_norm: ', x_norm.shape)\n",
    "    print('y_norm: ', y_norm.shape)\n",
    "    # x y _norm (35, 1) 对应35天的每天的流量数据的L2范数\n",
    "\n",
    "    # p->\n",
    "    p = x_norm[:, 0] / x_norm.sum()\n",
    "    print('p： ', p.shape)\n",
    "    q = y_norm[:, 0] / y_norm.sum()\n",
    "    new_x = x/x_norm\n",
    "    print('new_x: ', new_x.shape)\n",
    "    D = 1 - np.dot(x / x_norm, (y / y_norm).T)\n",
    "    return wasserstein_distance(p, q, D)"
   ]
  }
 ],
 "metadata": {
  "kernelspec": {
   "display_name": "stfgnn",
   "language": "python",
   "name": "python3"
  },
  "language_info": {
   "codemirror_mode": {
    "name": "ipython",
    "version": 3
   },
   "file_extension": ".py",
   "mimetype": "text/x-python",
   "name": "python",
   "nbconvert_exporter": "python",
   "pygments_lexer": "ipython3",
   "version": "3.7.12"
  },
  "orig_nbformat": 4
 },
 "nbformat": 4,
 "nbformat_minor": 2
}
